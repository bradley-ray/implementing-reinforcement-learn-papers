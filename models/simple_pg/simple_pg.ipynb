{
 "cells": [
  {
   "cell_type": "markdown",
   "metadata": {},
   "source": [
    "# Simple Policy Gradient\n",
    "* https://spinningup.openai.com/en/latest/spinningup/rl_intro3.html"
   ]
  },
  {
   "cell_type": "code",
   "execution_count": null,
   "metadata": {},
   "outputs": [],
   "source": [
    "from simple_pg import PolicyEstimator,train\n",
    "import gym\n",
    "from gym.spaces import Box, Discrete\n",
    "from torch.optim import Adam"
   ]
  },
  {
   "cell_type": "code",
   "execution_count": 34,
   "metadata": {},
   "outputs": [],
   "source": [
    "env = gym.make('CartPole-v1')\n",
    "assert isinstance(env.observation_space, Box), \\\n",
    "    \"This example only works for envs with continuous state spaces.\"\n",
    "assert isinstance(env.action_space, Discrete), \\\n",
    "    \"This example only works for envs with discrete action spaces.\"\n",
    "\n",
    "obs_dim = env.observation_space.shape[0]\n",
    "num_acts = env.action_space.n"
   ]
  },
  {
   "cell_type": "code",
   "execution_count": 41,
   "metadata": {},
   "outputs": [],
   "source": [
    "hidden_sizes = [32, 32]\n",
    "policy_model = PolicyEstimator(sizes=[obs_dim] + hidden_sizes + [num_acts])\n",
    "optimizer = Adam(policy_model.parameters(), lr=3e-3)\n",
    "batch_size = 1000"
   ]
  },
  {
   "cell_type": "code",
   "execution_count": 43,
   "metadata": {},
   "outputs": [
    {
     "name": "stdout",
     "output_type": "stream",
     "text": [
      "epoch: 0 \t loss: 150.7765350341797 \t return: 295.75 \t ep_len: 295.75\n",
      "epoch: 1 \t loss: 124.67557525634766 \t return: 251.5 \t ep_len: 251.5\n",
      "epoch: 2 \t loss: 155.9512939453125 \t return: 306.25 \t ep_len: 306.25\n",
      "epoch: 3 \t loss: 182.3154754638672 \t return: 362.0 \t ep_len: 362.0\n",
      "epoch: 4 \t loss: 228.0236358642578 \t return: 454.3333333333333 \t ep_len: 454.3333333333333\n",
      "epoch: 5 \t loss: 272.30389404296875 \t return: 522.0 \t ep_len: 522.0\n",
      "epoch: 6 \t loss: 461.86083984375 \t return: 913.5 \t ep_len: 913.5\n",
      "epoch: 7 \t loss: 627.8419189453125 \t return: 1175.0 \t ep_len: 1175.0\n",
      "epoch: 8 \t loss: 567.5322265625 \t return: 1174.0 \t ep_len: 1174.0\n",
      "epoch: 9 \t loss: 777.3175048828125 \t return: 1609.0 \t ep_len: 1609.0\n"
     ]
    },
    {
     "data": {
      "text/plain": [
       "(tensor(777.3175, grad_fn=<NegBackward0>), [1609.0])"
      ]
     },
     "execution_count": 43,
     "metadata": {},
     "output_type": "execute_result"
    }
   ],
   "source": [
    "train(policy_model, env, optimizer, batch_size, epochs=10)"
   ]
  },
  {
   "cell_type": "code",
   "execution_count": 44,
   "metadata": {},
   "outputs": [],
   "source": [
    "import torch\n",
    "import torch.nn as nn\n",
    "from torch.distributions.categorical import Categorical\n",
    "\n",
    "test_env = gym.make('CartPole-v1', render_mode='human')\n",
    "obs = test_env.reset()[0]\n",
    "while True:\n",
    "    policy = Categorical(logits=policy_model(torch.as_tensor(obs, dtype=torch.float32)))\n",
    "    action = policy.sample().item()\n",
    "\n",
    "    obs, _, done, _, _ = test_env.step(action)\n",
    "    if done:\n",
    "        break\n"
   ]
  },
  {
   "cell_type": "code",
   "execution_count": null,
   "metadata": {},
   "outputs": [],
   "source": []
  }
 ],
 "metadata": {
  "kernelspec": {
   "display_name": "deeplearn",
   "language": "python",
   "name": "deeplearn"
  },
  "language_info": {
   "codemirror_mode": {
    "name": "ipython",
    "version": 3
   },
   "file_extension": ".py",
   "mimetype": "text/x-python",
   "name": "python",
   "nbconvert_exporter": "python",
   "pygments_lexer": "ipython3",
   "version": "3.10.6"
  },
  "orig_nbformat": 4,
  "vscode": {
   "interpreter": {
    "hash": "31f2aee4e71d21fbe5cf8b01ff0e069b9275f58929596ceb00d14d90e3e16cd6"
   }
  }
 },
 "nbformat": 4,
 "nbformat_minor": 2
}
