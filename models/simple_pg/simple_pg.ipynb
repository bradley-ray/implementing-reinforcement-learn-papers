{
 "cells": [
  {
   "cell_type": "markdown",
   "metadata": {},
   "source": [
    "# Simple Policy Gradient\n",
    "* https://spinningup.openai.com/en/latest/spinningup/rl_intro3.html"
   ]
  },
  {
   "cell_type": "code",
   "execution_count": 2,
   "metadata": {},
   "outputs": [],
   "source": [
    "from simple_pg import PolicyEstimator,train\n",
    "import gym\n",
    "from gym.spaces import Box, Discrete\n",
    "from torch.optim import Adam"
   ]
  },
  {
   "cell_type": "code",
   "execution_count": 3,
   "metadata": {},
   "outputs": [],
   "source": [
    "env = gym.make('CartPole-v1')\n",
    "assert isinstance(env.observation_space, Box), \\\n",
    "    \"This example only works for envs with continuous state spaces.\"\n",
    "assert isinstance(env.action_space, Discrete), \\\n",
    "    \"This example only works for envs with discrete action spaces.\"\n",
    "\n",
    "obs_dim = env.observation_space.shape[0]\n",
    "num_acts = env.action_space.n"
   ]
  },
  {
   "cell_type": "code",
   "execution_count": 4,
   "metadata": {},
   "outputs": [],
   "source": [
    "hidden_sizes = [32, 32]\n",
    "policy_model = PolicyEstimator(sizes=[obs_dim] + hidden_sizes + [num_acts])\n",
    "optimizer = Adam(policy_model.parameters(), lr=3e-3)\n",
    "batch_size = 1000"
   ]
  },
  {
   "cell_type": "code",
   "execution_count": 5,
   "metadata": {},
   "outputs": [
    {
     "name": "stderr",
     "output_type": "stream",
     "text": [
      "/home/bradley/Documents/dev/implementing-reinforcement-learn-papers/models/simple_pg/simple_pg.py:97: UserWarning: Creating a tensor from a list of numpy.ndarrays is extremely slow. Please consider converting the list to a single numpy.ndarray with numpy.array() before converting to a tensor. (Triggered internally at ../torch/csrc/utils/tensor_new.cpp:230.)\n",
      "  batch_loss = get_loss(obs=torch.as_tensor(batch_obs, dtype=torch.float32),\n"
     ]
    },
    {
     "name": "stdout",
     "output_type": "stream",
     "text": [
      "epoch: 0 \t loss: 10.957947731018066 \t return: 22.533333333333335 \t ep_len: 22.533333333333335\n",
      "epoch: 1 \t loss: 11.470200538635254 \t return: 24.463414634146343 \t ep_len: 24.463414634146343\n",
      "epoch: 2 \t loss: 12.842450141906738 \t return: 25.4 \t ep_len: 25.4\n",
      "epoch: 3 \t loss: 11.106233596801758 \t return: 26.842105263157894 \t ep_len: 26.842105263157894\n",
      "epoch: 4 \t loss: 13.223916053771973 \t return: 28.97142857142857 \t ep_len: 28.97142857142857\n",
      "epoch: 5 \t loss: 14.77961254119873 \t return: 32.354838709677416 \t ep_len: 32.354838709677416\n",
      "epoch: 6 \t loss: 15.63775634765625 \t return: 33.766666666666666 \t ep_len: 33.766666666666666\n",
      "epoch: 7 \t loss: 10.57635498046875 \t return: 25.743589743589745 \t ep_len: 25.743589743589745\n",
      "epoch: 8 \t loss: 12.547633171081543 \t return: 28.914285714285715 \t ep_len: 28.914285714285715\n",
      "epoch: 9 \t loss: 13.253616333007812 \t return: 29.61764705882353 \t ep_len: 29.61764705882353\n",
      "epoch: 10 \t loss: 12.136176109313965 \t return: 32.516129032258064 \t ep_len: 32.516129032258064\n",
      "epoch: 11 \t loss: 15.3197660446167 \t return: 33.7 \t ep_len: 33.7\n",
      "epoch: 12 \t loss: 15.555588722229004 \t return: 40.30769230769231 \t ep_len: 40.30769230769231\n",
      "epoch: 13 \t loss: 15.02309513092041 \t return: 39.57692307692308 \t ep_len: 39.57692307692308\n",
      "epoch: 14 \t loss: 17.665695190429688 \t return: 45.59090909090909 \t ep_len: 45.59090909090909\n",
      "epoch: 15 \t loss: 18.957794189453125 \t return: 48.54545454545455 \t ep_len: 48.54545454545455\n",
      "epoch: 16 \t loss: 20.229997634887695 \t return: 53.57142857142857 \t ep_len: 53.57142857142857\n",
      "epoch: 17 \t loss: 16.284807205200195 \t return: 46.09090909090909 \t ep_len: 46.09090909090909\n",
      "epoch: 18 \t loss: 22.853750228881836 \t return: 57.78947368421053 \t ep_len: 57.78947368421053\n",
      "epoch: 19 \t loss: 16.945356369018555 \t return: 48.095238095238095 \t ep_len: 48.095238095238095\n",
      "epoch: 20 \t loss: 17.908472061157227 \t return: 51.3 \t ep_len: 51.3\n",
      "epoch: 21 \t loss: 30.164113998413086 \t return: 65.375 \t ep_len: 65.375\n",
      "epoch: 22 \t loss: 25.82404899597168 \t return: 67.9375 \t ep_len: 67.9375\n",
      "epoch: 23 \t loss: 20.769777297973633 \t return: 60.411764705882355 \t ep_len: 60.411764705882355\n",
      "epoch: 24 \t loss: 15.334139823913574 \t return: 46.18181818181818 \t ep_len: 46.18181818181818\n",
      "epoch: 25 \t loss: 19.593690872192383 \t return: 58.77777777777778 \t ep_len: 58.77777777777778\n",
      "epoch: 26 \t loss: 17.843236923217773 \t return: 54.0 \t ep_len: 54.0\n",
      "epoch: 27 \t loss: 23.122493743896484 \t return: 61.05882352941177 \t ep_len: 61.05882352941177\n",
      "epoch: 28 \t loss: 18.097774505615234 \t return: 54.421052631578945 \t ep_len: 54.421052631578945\n",
      "epoch: 29 \t loss: 18.818588256835938 \t return: 54.68421052631579 \t ep_len: 54.68421052631579\n",
      "epoch: 30 \t loss: 19.14348793029785 \t return: 58.77777777777778 \t ep_len: 58.77777777777778\n",
      "epoch: 31 \t loss: 22.027904510498047 \t return: 63.5 \t ep_len: 63.5\n",
      "epoch: 32 \t loss: 28.095430374145508 \t return: 76.28571428571429 \t ep_len: 76.28571428571429\n",
      "epoch: 33 \t loss: 22.542924880981445 \t return: 68.13333333333334 \t ep_len: 68.13333333333334\n",
      "epoch: 34 \t loss: 29.342357635498047 \t return: 83.66666666666667 \t ep_len: 83.66666666666667\n",
      "epoch: 35 \t loss: 26.38367462158203 \t return: 86.66666666666667 \t ep_len: 86.66666666666667\n",
      "epoch: 36 \t loss: 35.01529312133789 \t return: 98.9090909090909 \t ep_len: 98.9090909090909\n",
      "epoch: 37 \t loss: 31.62831687927246 \t return: 100.6 \t ep_len: 100.6\n",
      "epoch: 38 \t loss: 24.802385330200195 \t return: 82.07692307692308 \t ep_len: 82.07692307692308\n",
      "epoch: 39 \t loss: 31.51634979248047 \t return: 84.75 \t ep_len: 84.75\n",
      "epoch: 40 \t loss: 44.869815826416016 \t return: 112.1 \t ep_len: 112.1\n",
      "epoch: 41 \t loss: 38.209999084472656 \t return: 117.7 \t ep_len: 117.7\n",
      "epoch: 42 \t loss: 33.784759521484375 \t return: 112.66666666666667 \t ep_len: 112.66666666666667\n",
      "epoch: 43 \t loss: 43.27169418334961 \t return: 147.375 \t ep_len: 147.375\n",
      "epoch: 44 \t loss: 30.994787216186523 \t return: 101.1 \t ep_len: 101.1\n",
      "epoch: 45 \t loss: 44.259010314941406 \t return: 151.14285714285714 \t ep_len: 151.14285714285714\n",
      "epoch: 46 \t loss: 49.0888671875 \t return: 168.28571428571428 \t ep_len: 168.28571428571428\n",
      "epoch: 47 \t loss: 46.17223358154297 \t return: 172.33333333333334 \t ep_len: 172.33333333333334\n",
      "epoch: 48 \t loss: 39.26304244995117 \t return: 146.14285714285714 \t ep_len: 146.14285714285714\n",
      "epoch: 49 \t loss: 49.470458984375 \t return: 177.66666666666666 \t ep_len: 177.66666666666666\n"
     ]
    },
    {
     "data": {
      "text/plain": [
       "(tensor(49.4705, grad_fn=<NegBackward0>),\n",
       " [168.0, 173.0, 130.0, 186.0, 208.0, 201.0])"
      ]
     },
     "execution_count": 5,
     "metadata": {},
     "output_type": "execute_result"
    }
   ],
   "source": [
    "train(policy_model, env, optimizer, batch_size, epochs=50)"
   ]
  },
  {
   "cell_type": "code",
   "execution_count": 6,
   "metadata": {},
   "outputs": [],
   "source": [
    "import torch\n",
    "import torch.nn as nn\n",
    "from torch.distributions.categorical import Categorical\n",
    "\n",
    "test_env = gym.make('CartPole-v1', render_mode='human')\n",
    "obs = test_env.reset()[0]\n",
    "while True:\n",
    "    policy = Categorical(logits=policy_model(torch.as_tensor(obs, dtype=torch.float32)))\n",
    "    action = policy.sample().item()\n",
    "\n",
    "    obs, _, done, _, _ = test_env.step(action)\n",
    "    if done:\n",
    "        break\n"
   ]
  },
  {
   "cell_type": "code",
   "execution_count": null,
   "metadata": {},
   "outputs": [],
   "source": []
  }
 ],
 "metadata": {
  "kernelspec": {
   "display_name": "deeplearn",
   "language": "python",
   "name": "deeplearn"
  },
  "language_info": {
   "codemirror_mode": {
    "name": "ipython",
    "version": 3
   },
   "file_extension": ".py",
   "mimetype": "text/x-python",
   "name": "python",
   "nbconvert_exporter": "python",
   "pygments_lexer": "ipython3",
   "version": "3.10.6"
  },
  "orig_nbformat": 4,
  "vscode": {
   "interpreter": {
    "hash": "31f2aee4e71d21fbe5cf8b01ff0e069b9275f58929596ceb00d14d90e3e16cd6"
   }
  }
 },
 "nbformat": 4,
 "nbformat_minor": 2
}
